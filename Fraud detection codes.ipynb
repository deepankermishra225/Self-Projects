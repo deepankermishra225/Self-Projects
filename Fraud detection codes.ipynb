{
 "cells": [
  {
   "cell_type": "markdown",
   "metadata": {},
   "source": [
    "# Credit Card Fraud Detection using unsupervised learning"
   ]
  },
  {
   "cell_type": "code",
   "execution_count": 1,
   "metadata": {},
   "outputs": [],
   "source": [
    "#importing the necessary packages\n",
    "import numpy as np\n",
    "import pandas as pd \n",
    "import matplotlib.pyplot as plt\n",
    "import seaborn as sns"
   ]
  },
  {
   "cell_type": "code",
   "execution_count": 2,
   "metadata": {},
   "outputs": [
    {
     "name": "stdout",
     "output_type": "stream",
     "text": [
      "(284807, 31)\n"
     ]
    }
   ],
   "source": [
    "#reading the data file (which is in csv format)\n",
    "data = pd.read_csv('creditcard.csv')\n",
    "data1 = data\n",
    "print(data.shape)"
   ]
  },
  {
   "cell_type": "code",
   "execution_count": 3,
   "metadata": {},
   "outputs": [
    {
     "name": "stdout",
     "output_type": "stream",
     "text": [
      "(28481, 31)\n"
     ]
    }
   ],
   "source": [
    "#since data is very large we are using just 10% of the original data\n",
    "data = data.sample(frac = 0.1 , random_state = 1)\n",
    "print(data.shape)"
   ]
  },
  {
   "cell_type": "code",
   "execution_count": 4,
   "metadata": {},
   "outputs": [
    {
     "name": "stdout",
     "output_type": "stream",
     "text": [
      "Outlier_Fraction: 0.0017234102419808666\n",
      "Fraud Cases: 49 \n",
      "Valid Cases: 28432 \n"
     ]
    }
   ],
   "source": [
    "#determining the number of fraud cases in the dataset\n",
    "Fraud = data[data[\"Class\"]==1]\n",
    "Valid = data[data[\"Class\"]==0]\n",
    "outlier_fraction = len(Fraud)/float(len(Valid))\n",
    "print(\"Outlier_Fraction: {}\".format(outlier_fraction))\n",
    "print(\"Fraud Cases: {} \" .format(len(Fraud)) )\n",
    "print(\"Valid Cases: {} \" .format(len(Valid)) )"
   ]
  },
  {
   "cell_type": "markdown",
   "metadata": {},
   "source": [
    "# Heat map plot"
   ]
  },
  {
   "cell_type": "code",
   "execution_count": 5,
   "metadata": {},
   "outputs": [
    {
     "data": {
      "image/png": "[encoded data removed]",
      "text/plain": [
       "<Figure size 1080x648 with 2 Axes>"
      ]
     },
     "metadata": {
      "needs_background": "light"
     },
     "output_type": "display_data"
    }
   ],
   "source": [
    "#correlation matrix to study the dependence between the parameters\n",
    "\n",
    "corrmat = data.corr()\n",
    "fig = plt.figure(figsize = (15 , 9))\n",
    "sns.heatmap(corrmat , vmax = 0.8 , square = 0)\n",
    "plt.show()"
   ]
  },
  {
   "cell_type": "code",
   "execution_count": 6,
   "metadata": {},
   "outputs": [
    {
     "name": "stdout",
     "output_type": "stream",
     "text": [
      "(28481, 30)\n",
      "(28481,)\n"
     ]
    }
   ],
   "source": [
    "#obtaining the input features and result into X and Y\n",
    "X = data.drop([\"Class\"] , axis = 1 )\n",
    "Y = data[\"Class\"]\n",
    "x1 = data1.drop([\"Class\"] , axis = 1)\n",
    "y1 = data1['Class']\n",
    "print(X.shape)\n",
    "print(Y.shape)"
   ]
  },
  {
   "cell_type": "markdown",
   "metadata": {},
   "source": [
    "# Implementing Anomaly Detection"
   ]
  },
  {
   "cell_type": "code",
   "execution_count": 7,
   "metadata": {},
   "outputs": [],
   "source": [
    "from sklearn.ensemble import IsolationForest\n",
    "from sklearn.ensemble import RandomForestClassifier\n",
    "from sklearn.neighbors import LocalOutlierFactor\n",
    "from sklearn.metrics import accuracy_score , classification_report"
   ]
  },
  {
   "cell_type": "code",
   "execution_count": 8,
   "metadata": {},
   "outputs": [],
   "source": [
    "# Using Skicit-learn to split data into training and testing sets \n",
    "from sklearn.model_selection import train_test_split \n",
    "# Split the data into training and testing sets \n",
    "xTrain, xTest, yTrain, yTest = train_test_split(x1.values, y1.values, test_size = 0.2, random_state = 42) \n"
   ]
  },
  {
   "cell_type": "markdown",
   "metadata": {},
   "source": [
    "# Random Forest"
   ]
  },
  {
   "cell_type": "code",
   "execution_count": 9,
   "metadata": {},
   "outputs": [
    {
     "name": "stdout",
     "output_type": "stream",
     "text": [
      "Random Factor: 32\n",
      "Accuracy:\n",
      "0.9994382219725431\n",
      "              precision    recall  f1-score   support\n",
      "\n",
      "           0       1.00      1.00      1.00     56864\n",
      "           1       0.92      0.73      0.82        98\n",
      "\n",
      "    accuracy                           1.00     56962\n",
      "   macro avg       0.96      0.87      0.91     56962\n",
      "weighted avg       1.00      1.00      1.00     56962\n",
      "\n"
     ]
    }
   ],
   "source": [
    "rfc = RandomForestClassifier() \n",
    "rfc.fit(X, Y) \n",
    "# predictions \n",
    "ypred = rfc.predict(xTest) \n",
    "n_errors = (ypred!=yTest).sum()\n",
    "clf_name = \"Random Factor\"\n",
    "print('{}: {}'.format(clf_name, n_errors))\n",
    "print(\"Accuracy:\")\n",
    "print(accuracy_score(yTest, ypred))\n",
    "print(classification_report(yTest, ypred))"
   ]
  },
  {
   "cell_type": "markdown",
   "metadata": {},
   "source": [
    "# Local Outlier Factor"
   ]
  },
  {
   "cell_type": "code",
   "execution_count": 10,
   "metadata": {},
   "outputs": [
    {
     "name": "stdout",
     "output_type": "stream",
     "text": [
      "Local Outlier Factor: 97\n",
      "Accuracy\n",
      "0.9965942207085425\n",
      "              precision    recall  f1-score   support\n",
      "\n",
      "           0       1.00      1.00      1.00     28432\n",
      "           1       0.02      0.02      0.02        49\n",
      "\n",
      "    accuracy                           1.00     28481\n",
      "   macro avg       0.51      0.51      0.51     28481\n",
      "weighted avg       1.00      1.00      1.00     28481\n",
      "\n"
     ]
    }
   ],
   "source": [
    "clf = LocalOutlierFactor(contamination = outlier_fraction)\n",
    "ypred = clf.fit_predict(X , Y)\n",
    "ypred[ypred==1] = 0 \n",
    "ypred[ypred==-1] = 1\n",
    "n_errors = (ypred!=Y).sum()\n",
    "clf_name = \"Local Outlier Factor\"\n",
    "print('{}: {}'.format(clf_name, n_errors))\n",
    "print(\"Accuracy\")\n",
    "print(accuracy_score(Y, ypred))\n",
    "print(classification_report(Y, ypred))"
   ]
  },
  {
   "cell_type": "markdown",
   "metadata": {},
   "source": [
    "# Isolation Forest"
   ]
  },
  {
   "cell_type": "code",
   "execution_count": 11,
   "metadata": {},
   "outputs": [
    {
     "name": "stdout",
     "output_type": "stream",
     "text": [
      "Isolation Forest: 75\n",
      "Accuracy\n",
      "0.9973666654962958\n",
      "              precision    recall  f1-score   support\n",
      "\n",
      "           0       1.00      1.00      1.00     28432\n",
      "           1       0.24      0.24      0.24        49\n",
      "\n",
      "    accuracy                           1.00     28481\n",
      "   macro avg       0.62      0.62      0.62     28481\n",
      "weighted avg       1.00      1.00      1.00     28481\n",
      "\n"
     ]
    }
   ],
   "source": [
    "clf = IsolationForest(max_samples = len(X) , contamination = outlier_fraction)\n",
    "clf.fit(X , Y)\n",
    "ypred = clf.predict(X)\n",
    "ypred[ypred==1] = 0 \n",
    "ypred[ypred==-1] = 1\n",
    "n_errors = (ypred!=Y).sum()\n",
    "clf_name = \"Isolation Forest\"\n",
    "print('{}: {}'.format(clf_name, n_errors))\n",
    "print(\"Accuracy\")\n",
    "print(accuracy_score(Y, ypred))\n",
    "print(classification_report(Y, ypred))"
   ]
  },
  {
   "cell_type": "markdown",
   "metadata": {},
   "source": [
    "# Guassian Method"
   ]
  },
  {
   "cell_type": "code",
   "execution_count": 12,
   "metadata": {},
   "outputs": [
    {
     "name": "stdout",
     "output_type": "stream",
     "text": [
      "Guassian Method: 501\n",
      "Accuracy\n",
      "0.9912046627576279\n",
      "              precision    recall  f1-score   support\n",
      "\n",
      "           0       1.00      0.99      1.00     56864\n",
      "           1       0.12      0.67      0.21        98\n",
      "\n",
      "    accuracy                           0.99     56962\n",
      "   macro avg       0.56      0.83      0.60     56962\n",
      "weighted avg       1.00      0.99      0.99     56962\n",
      "\n"
     ]
    }
   ],
   "source": [
    "from sklearn.naive_bayes import GaussianNB\n",
    "clf = GaussianNB()\n",
    "clf.fit(X ,Y)\n",
    "ypred = clf.predict(xTest)\n",
    "n_errors = (ypred!=yTest).sum()\n",
    "clf_name = \"Guassian Method\"\n",
    "print('{}: {}'.format(clf_name, n_errors))\n",
    "print(\"Accuracy\")\n",
    "print(accuracy_score(yTest, ypred))\n",
    "print(classification_report(yTest, ypred))"
   ]
  },
  {
   "cell_type": "markdown",
   "metadata": {},
   "source": [
    "Accuracy may be high and above 99% for all the algorithms but Random Forest Method is gives the best results as it \n",
    "has the largest precsion value of 0.92 followed by Isolation Forest which has a precision value of 0.02 ."
   ]
  },
  {
   "cell_type": "code",
   "execution_count": null,
   "metadata": {},
   "outputs": [],
   "source": []
  }
 ],
 "metadata": {
  "kernelspec": {
   "display_name": "Python 3",
   "language": "python",
   "name": "python3"
  },
  "language_info": {
   "codemirror_mode": {
    "name": "ipython",
    "version": 3
   },
   "file_extension": ".py",
   "mimetype": "text/x-python",
   "name": "python",
   "nbconvert_exporter": "python",
   "pygments_lexer": "ipython3",
   "version": "3.7.6"
  }
 },
 "nbformat": 4,
 "nbformat_minor": 4
}
